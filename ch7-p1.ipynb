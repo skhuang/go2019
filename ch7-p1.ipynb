{
 "cells": [
  {
   "cell_type": "markdown",
   "metadata": {
    "toc": true
   },
   "source": [
    "<h1>Table of Contents<span class=\"tocSkip\"></span></h1>\n",
    "<div class=\"toc\"><ul class=\"toc-item\"><li><span><a href=\"#Interfaces\" data-toc-modified-id=\"Interfaces-7\"><span class=\"toc-item-num\">7&nbsp;&nbsp;</span>Interfaces</a></span><ul class=\"toc-item\"><li><span><a href=\"#Interfaces-as-Contracts\" data-toc-modified-id=\"Interfaces-as-Contracts-7.1\"><span class=\"toc-item-num\">7.1&nbsp;&nbsp;</span>Interfaces as Contracts</a></span></li><li><span><a href=\"#Interface-Types\" data-toc-modified-id=\"Interface-Types-7.2\"><span class=\"toc-item-num\">7.2&nbsp;&nbsp;</span>Interface Types</a></span></li><li><span><a href=\"#Interface-Satisfaction\" data-toc-modified-id=\"Interface-Satisfaction-7.3\"><span class=\"toc-item-num\">7.3&nbsp;&nbsp;</span>Interface Satisfaction</a></span></li><li><span><a href=\"#Parsing-Flags-with-flag.Value\" data-toc-modified-id=\"Parsing-Flags-with-flag.Value-7.4\"><span class=\"toc-item-num\">7.4&nbsp;&nbsp;</span>Parsing Flags with flag.Value</a></span></li><li><span><a href=\"#Interface-Values\" data-toc-modified-id=\"Interface-Values-7.5\"><span class=\"toc-item-num\">7.5&nbsp;&nbsp;</span>Interface Values</a></span></li><li><span><a href=\"#Sorting-with-sort.Interface\" data-toc-modified-id=\"Sorting-with-sort.Interface-7.6\"><span class=\"toc-item-num\">7.6&nbsp;&nbsp;</span>Sorting with sort.Interface</a></span></li><li><span><a href=\"#The-http.Handler-Interface\" data-toc-modified-id=\"The-http.Handler-Interface-7.7\"><span class=\"toc-item-num\">7.7&nbsp;&nbsp;</span>The http.Handler Interface</a></span></li><li><span><a href=\"#The-error-Interface\" data-toc-modified-id=\"The-error-Interface-7.8\"><span class=\"toc-item-num\">7.8&nbsp;&nbsp;</span>The error Interface</a></span></li><li><span><a href=\"#Example:-Expression-Evaluator\" data-toc-modified-id=\"Example:-Expression-Evaluator-7.9\"><span class=\"toc-item-num\">7.9&nbsp;&nbsp;</span>Example: Expression Evaluator</a></span></li><li><span><a href=\"#Type-Assertions\" data-toc-modified-id=\"Type-Assertions-7.10\"><span class=\"toc-item-num\">7.10&nbsp;&nbsp;</span>Type Assertions</a></span></li><li><span><a href=\"#Discriminating-Errors-with-Type-Assertions\" data-toc-modified-id=\"Discriminating-Errors-with-Type-Assertions-7.11\"><span class=\"toc-item-num\">7.11&nbsp;&nbsp;</span>Discriminating Errors with Type Assertions</a></span></li><li><span><a href=\"#Querying-Behaviors-with-Interface-Type-Assertions\" data-toc-modified-id=\"Querying-Behaviors-with-Interface-Type-Assertions-7.12\"><span class=\"toc-item-num\">7.12&nbsp;&nbsp;</span>Querying Behaviors with Interface Type Assertions</a></span></li><li><span><a href=\"#Type-Switches\" data-toc-modified-id=\"Type-Switches-7.13\"><span class=\"toc-item-num\">7.13&nbsp;&nbsp;</span>Type Switches</a></span></li><li><span><a href=\"#Example:-Token-Based-XML-Decoding\" data-toc-modified-id=\"Example:-Token-Based-XML-Decoding-7.14\"><span class=\"toc-item-num\">7.14&nbsp;&nbsp;</span>Example: Token-Based XML Decoding</a></span></li></ul></li></ul></div>"
   ]
  },
  {
   "cell_type": "markdown",
   "metadata": {
    "slideshow": {
     "slide_type": "slide"
    }
   },
   "source": [
    "# Interfaces\n",
    "\n",
    "## Interfaces as Contracts\n",
    "\n",
    "* Concrete type specifies the exact representation of its values and exposes the intrinsic operations of tht representation\n",
    "* Interface is an abstract type"
   ]
  },
  {
   "cell_type": "code",
   "execution_count": 105,
   "metadata": {
    "code_folding": [],
    "slideshow": {
     "slide_type": "subslide"
    }
   },
   "outputs": [
    {
     "name": "stdout",
     "output_type": "stream",
     "text": [
      "test,100\n"
     ]
    },
    {
     "data": {
      "text/plain": [
       "9 <nil>"
      ]
     },
     "execution_count": 105,
     "metadata": {},
     "output_type": "execute_result"
    }
   ],
   "source": [
    "//package fmt\n",
    "import (\"io\"; \"os\";\"bytes\")\n",
    "func Fprintf(w io.Writer, format string, args ...interface{})(int, error)\n",
    "func Printf(format string, args ...interface{})(int, error) {\n",
    "    return fmt.Fprintf(os.Stdout, format, args...)\n",
    "}\n",
    "Printf(\"%s,%d\\n\",\"test\",100)"
   ]
  },
  {
   "cell_type": "markdown",
   "metadata": {
    "slideshow": {
     "slide_type": "subslide"
    }
   },
   "source": [
    "* Writer is the interface that wraps the basic Write method\n",
    "* Write writes len(p) bytes from p to the underlying data stream.\n",
    "* Returns the number of bytes from p (0 $\\le$ n $\\le$ len(p))\n",
    "* Write must return a non-nil error if returns n < len(p)\n",
    "* Write must not modify the slice data, even temporarily"
   ]
  },
  {
   "cell_type": "code",
   "execution_count": 106,
   "metadata": {
    "slideshow": {
     "slide_type": "fragment"
    }
   },
   "outputs": [],
   "source": [
    "//package io\n",
    "//Writer is the interface that wraps the basic Write method\n",
    "type Writer interface {\n",
    "    Write(p []byte) (n int, err error)\n",
    "}"
   ]
  },
  {
   "cell_type": "code",
   "execution_count": 20,
   "metadata": {
    "slideshow": {
     "slide_type": "fragment"
    }
   },
   "outputs": [
    {
     "data": {
      "text/plain": [
       "test,100"
      ]
     },
     "execution_count": 20,
     "metadata": {},
     "output_type": "execute_result"
    }
   ],
   "source": [
    "func Sprintf(format string, args ...interface{}) string {\n",
    "    var buf bytes.Buffer\n",
    "    fmt.Fprintf(&buf, format, args...)\n",
    "    return buf.String()\n",
    "}\n",
    "Sprintf(\"%s,%d\",\"test\",100)"
   ]
  },
  {
   "cell_type": "code",
   "execution_count": 108,
   "metadata": {
    "code_folding": [],
    "slideshow": {
     "slide_type": "subslide"
    }
   },
   "outputs": [
    {
     "name": "stdout",
     "output_type": "stream",
     "text": [
      "{5}\n"
     ]
    },
    {
     "data": {
      "text/plain": [
       "4 <nil>"
      ]
     },
     "execution_count": 108,
     "metadata": {},
     "output_type": "execute_result"
    }
   ],
   "source": [
    "//gopl.io/ch7/bytecounter\n",
    "import \"fmt\"\n",
    "type ByteCounter struct {i int}\n",
    "func (c *ByteCounter) Write(p []byte) (int, error) {\n",
    "    c.i += len(p) // convert int to ByteCounter\n",
    "    return len(p), nil\n",
    "}\n",
    "var d ByteCounter\n",
    "c := ByteCounter{0}\n",
    "c.Write([]byte(\"hello\"))\n",
    "fmt.Println(c)"
   ]
  },
  {
   "cell_type": "code",
   "execution_count": 109,
   "metadata": {
    "code_folding": [],
    "slideshow": {
     "slide_type": "subslide"
    }
   },
   "outputs": [
    {
     "ename": "ERROR",
     "evalue": "repl.go:25:31: cannot convert type <*main.ByteCounter> to interface <io.Writer>: missing method  Write",
     "output_type": "error",
     "traceback": [
      "repl.go:25:31: cannot convert type <*main.ByteCounter> to interface <io.Writer>: missing method  Write"
     ]
    }
   ],
   "source": [
    "// Bytecounter demonstrates an implementation of io.Writer that counts bytes.\n",
    "//package main\n",
    "\n",
    "import (\"fmt\")\n",
    "\n",
    "//!+bytecounter\n",
    "\n",
    "type ByteCounter struct {i int}\n",
    "\n",
    "func (c *ByteCounter) Write(p []byte) (int, error) {\n",
    "\tc.i += (len(p)) // convert int to ByteCounter\n",
    "\treturn len(p), nil\n",
    "}\n",
    "\n",
    "//!-bytecounter\n",
    "\n",
    "func main() {\n",
    "\t//!+main\n",
    "    c := ByteCounter{0}\n",
    "    c.Write([]byte(\"hello\"))\n",
    "\tfmt.Println(c) // \"5\", = len(\"hello\")\n",
    "\n",
    "\tc.i = 0 // reset the counter\n",
    "\tvar name = \"Dolly\"\n",
    "\tfmt.Fprintf(&c, \"hello, %s\", name)\n",
    "\tfmt.Println(c) // \"12\", = len(\"hello, Dolly\")\n",
    "\t//!-main\n",
    "}\n",
    "main()"
   ]
  },
  {
   "cell_type": "markdown",
   "metadata": {
    "slideshow": {
     "slide_type": "slide"
    }
   },
   "source": [
    "## Interface Types\n",
    "* An interface type specifies a set of metods that a concrete type must possess to be considered an instance of that interface "
   ]
  },
  {
   "cell_type": "code",
   "execution_count": 110,
   "metadata": {
    "code_folding": [],
    "scrolled": true,
    "slideshow": {
     "slide_type": "subslide"
    }
   },
   "outputs": [],
   "source": [
    "//package io\n",
    "type Reader interface {\n",
    "    Read(p []byte) (n int, err error)\n",
    "}\n",
    "type Closer interface {\n",
    "    Close() error\n",
    "}\n"
   ]
  },
  {
   "cell_type": "code",
   "execution_count": 111,
   "metadata": {},
   "outputs": [
    {
     "ename": "ERROR",
     "evalue": "go/parser internal error: identifier already declared or resolved",
     "output_type": "error",
     "traceback": [
      "go/parser internal error: identifier already declared or resolved"
     ]
    }
   ],
   "source": [
    "type ReadWriter interface {\n",
    "    Reader\n",
    "    Writer\n",
    "}\n",
    "type ReadWriteCloser interface {\n",
    "    Reader\n",
    "    Writer\n",
    "    Closer\n",
    "}"
   ]
  },
  {
   "cell_type": "code",
   "execution_count": 112,
   "metadata": {},
   "outputs": [],
   "source": [
    "type ReadWriter interface {\n",
    "    Read(p []byte) (n int, err error)\n",
    "    Write(p []byte) (n int, err error)\n",
    "}"
   ]
  },
  {
   "cell_type": "code",
   "execution_count": 113,
   "metadata": {},
   "outputs": [
    {
     "ename": "ERROR",
     "evalue": "go/parser internal error: identifier already declared or resolved",
     "output_type": "error",
     "traceback": [
      "go/parser internal error: identifier already declared or resolved"
     ]
    }
   ],
   "source": [
    "type ReadWriter interface {\n",
    "    Read(p []byte) (n int, err error)\n",
    "    Writer\n",
    "}"
   ]
  },
  {
   "cell_type": "markdown",
   "metadata": {
    "slideshow": {
     "slide_type": "slide"
    }
   },
   "source": [
    "## Interface Satisfaction\n",
    "* A type satisfies an interface if it possesses all the methods the interface requires\n",
    "* An expression may be assigned to an interface only if its type satisfies the interface"
   ]
  },
  {
   "cell_type": "code",
   "execution_count": 114,
   "metadata": {
    "slideshow": {
     "slide_type": "subslide"
    }
   },
   "outputs": [],
   "source": [
    "import \"time\"\n",
    "var w io.Writer\n",
    "w = os.Stdout        //OK: *os.File has Write method\n",
    "w = new(bytes.Buffer)//OK, *bytes.Buffeer has Write method \n"
   ]
  },
  {
   "cell_type": "code",
   "execution_count": 115,
   "metadata": {
    "slideshow": {
     "slide_type": "fragment"
    }
   },
   "outputs": [
    {
     "ename": "ERROR",
     "evalue": "repl.go:1:1: error compiling assignment: w = time.Second\n\tcannot convert typed constant 1s <time.Duration> to <io.Writer>\n\treason: time.Duration does not implement io.Writer: missing method func (interface{Write(p []uint8) (n int, err error)}).Write(p []uint8) (n int, err error)",
     "output_type": "error",
     "traceback": [
      "repl.go:1:1: error compiling assignment: w = time.Second\n\tcannot convert typed constant 1s <time.Duration> to <io.Writer>\n\treason: time.Duration does not implement io.Writer: missing method func (interface{Write(p []uint8) (n int, err error)}).Write(p []uint8) (n int, err error)"
     ]
    }
   ],
   "source": [
    "w = time.Second // compile error: time.Duration lacks Write method"
   ]
  },
  {
   "cell_type": "code",
   "execution_count": 97,
   "metadata": {
    "slideshow": {
     "slide_type": "fragment"
    }
   },
   "outputs": [],
   "source": [
    "var rwc io.ReadWriteCloser\n",
    "rwc = os.Stdout    //OK: *os.File has Read,Write, Close methods"
   ]
  },
  {
   "cell_type": "code",
   "execution_count": 98,
   "metadata": {
    "slideshow": {
     "slide_type": "fragment"
    }
   },
   "outputs": [
    {
     "ename": "ERROR",
     "evalue": "repl.go:1:1: error compiling assignment: rwc = new(bytes.Buffer)\n\trepl.go:1:1: incompatible types in assignment: io.ReadWriteCloser = *bytes.Buffer\n\treason: *bytes.Buffer does not implement io.ReadWriteCloser: missing method func (interface{Close() error}).Close() error",
     "output_type": "error",
     "traceback": [
      "repl.go:1:1: error compiling assignment: rwc = new(bytes.Buffer)\n\trepl.go:1:1: incompatible types in assignment: io.ReadWriteCloser = *bytes.Buffer\n\treason: *bytes.Buffer does not implement io.ReadWriteCloser: missing method func (interface{Close() error}).Close() error"
     ]
    }
   ],
   "source": [
    "rwc = new(bytes.Buffer)// compile error: *bytes.Buffer lacks Close method"
   ]
  },
  {
   "cell_type": "code",
   "execution_count": 99,
   "metadata": {
    "slideshow": {
     "slide_type": "fragment"
    }
   },
   "outputs": [],
   "source": [
    "w = rwc  // OK: io.ReadWriteCloser has Write method"
   ]
  },
  {
   "cell_type": "code",
   "execution_count": 100,
   "metadata": {
    "slideshow": {
     "slide_type": "fragment"
    }
   },
   "outputs": [
    {
     "ename": "ERROR",
     "evalue": "repl.go:1:1: error compiling assignment: rwc = w\n\trepl.go:1:1: incompatible types in assignment: io.ReadWriteCloser = io.Writer\n\treason: io.Writer does not implement io.ReadWriteCloser: missing method func (interface{Close() error}).Close() error",
     "output_type": "error",
     "traceback": [
      "repl.go:1:1: error compiling assignment: rwc = w\n\trepl.go:1:1: incompatible types in assignment: io.ReadWriteCloser = io.Writer\n\treason: io.Writer does not implement io.ReadWriteCloser: missing method func (interface{Close() error}).Close() error"
     ]
    }
   ],
   "source": [
    "rwc = w // compile error: io.Writer lacks Close metho"
   ]
  },
  {
   "cell_type": "code",
   "execution_count": 119,
   "metadata": {
    "code_folding": [
     0
    ],
    "slideshow": {
     "slide_type": "subslide"
    }
   },
   "outputs": [],
   "source": [
    "type IntSet struct {/* ... */}\n",
    "func (*IntSet) String() string\n",
    "var _ = IntSet{}.String()"
   ]
  },
  {
   "cell_type": "code",
   "execution_count": 122,
   "metadata": {
    "slideshow": {
     "slide_type": "fragment"
    }
   },
   "outputs": [],
   "source": [
    "var s IntSet\n",
    "var _ = s.String() // OK: s is a variable and &s has a String method"
   ]
  },
  {
   "cell_type": "code",
   "execution_count": 129,
   "metadata": {
    "slideshow": {
     "slide_type": "fragment"
    }
   },
   "outputs": [],
   "source": [
    "var _ fmt.Stringer = &s // OK, fmt.Stringer is an interface\n",
    "var _ fmt.Stringer = s "
   ]
  },
  {
   "cell_type": "code",
   "execution_count": 131,
   "metadata": {
    "slideshow": {
     "slide_type": "subslide"
    }
   },
   "outputs": [
    {
     "ename": "ERROR",
     "evalue": "repl.go:6:1: not a package: \"w\" in w.Close <*ast.SelectorExpr>",
     "output_type": "error",
     "traceback": [
      "repl.go:6:1: not a package: \"w\" in w.Close <*ast.SelectorExpr>"
     ]
    }
   ],
   "source": [
    "os.Stdout.Write([]byte(\"hello\")) // OK: *os.File has Write method\n",
    "os.Stdout.Close()                // OK: *os.File has Close method\n",
    "var w io.Writer\n",
    "w = os.Stdout\n",
    "w.Write([]byte(\"hello\"))         // OK: io.Writer has Write method\n",
    "w.Close()                        // compile error:io.Writer lacks Close method"
   ]
  },
  {
   "cell_type": "markdown",
   "metadata": {
    "slideshow": {
     "slide_type": "subslide"
    }
   },
   "source": [
    "* the type interface{} has no methods \n",
    "* the empty interface type places no demands on the types that satisfy it\n",
    "* We can assign any value to the empty interface\n",
    "* fmt.Println or errorf to accept arguments of any type"
   ]
  },
  {
   "cell_type": "code",
   "execution_count": 140,
   "metadata": {
    "slideshow": {
     "slide_type": "fragment"
    }
   },
   "outputs": [],
   "source": [
    "var any interface{}\n",
    "any = true\n",
    "any = 12.34\n",
    "any = \"hello\"\n",
    "any = map[string]int{\"one\":1}\n",
    "any = new(bytes.Buffer)"
   ]
  },
  {
   "cell_type": "code",
   "execution_count": 142,
   "metadata": {
    "slideshow": {
     "slide_type": "subslide"
    }
   },
   "outputs": [],
   "source": [
    "// *bytes.Buffer must satisfy io.Writer\n",
    "var w io.Writer = new(bytes.Buffer)\n",
    "var _ io.Writer = (*bytes.Buffer)(nil)"
   ]
  },
  {
   "cell_type": "markdown",
   "metadata": {
    "slideshow": {
     "slide_type": "subslide"
    }
   },
   "source": [
    "* A concrete type may satisfy many unrelated interfaces\n",
    "* We may define the following set of concrete types:\n",
    "  * Album\n",
    "  * Book\n",
    "  * Movie\n",
    "  * Magazine\n",
    "  * Podcast\n",
    "  * TVEpisode\n",
    "  * Track"
   ]
  },
  {
   "cell_type": "markdown",
   "metadata": {
    "slideshow": {
     "slide_type": "subslide"
    }
   },
   "source": [
    "* We can express each abstration of interest as ann interface\n",
    "* Some properties are common to all artifacts, such as title, a creation date, and a list of "
   ]
  },
  {
   "cell_type": "code",
   "execution_count": null,
   "metadata": {
    "slideshow": {
     "slide_type": "subslide"
    }
   },
   "outputs": [],
   "source": [
    "type Artifact interface {\n",
    "    Title() string\n",
    "    Creators() []string\n",
    "    Created() time.Time\n",
    "}"
   ]
  },
  {
   "cell_type": "code",
   "execution_count": 146,
   "metadata": {
    "slideshow": {
     "slide_type": "subslide"
    }
   },
   "outputs": [],
   "source": [
    "type Text interface {\n",
    "    Pages() int\n",
    "    Words() int\n",
    "    PageSize() int\n",
    "}\n",
    "type Audio interface {\n",
    "    Stream() (io.ReadCloser, error)\n",
    "    RuningTime() time.Duration\n",
    "    Format() string // e.g., \"MP3\", \"WAV\"\n",
    "} \n",
    "type Video interface {\n",
    "    Stream() (io.ReadCloser, error)\n",
    "    RuningTime() time.Duration\n",
    "    Format() string // e.g., \"MP4\", \"WMV\"\n",
    "    Resolution() (x,y int)\n",
    "}"
   ]
  },
  {
   "cell_type": "markdown",
   "metadata": {
    "slideshow": {
     "slide_type": "subslide"
    }
   },
   "source": [
    "* Each grouping of concrete ypes based on the shared behaviors can be expressed as an interface type\n",
    "* Set of interfaces satisfied by a class in class-based languages are explicit\n",
    "* In Golang, we can define new abstractions or groupings of interest when we need them, without modifying the declaration of the concrete type"
   ]
  },
  {
   "cell_type": "code",
   "execution_count": 145,
   "metadata": {
    "slideshow": {
     "slide_type": "subslide"
    }
   },
   "outputs": [],
   "source": [
    "type Streamer interface {\n",
    "    Stream() (io.ReadCloser, error)\n",
    "    RunningTime() time.Duration\n",
    "    Format() string\n",
    "}"
   ]
  },
  {
   "cell_type": "markdown",
   "metadata": {
    "slideshow": {
     "slide_type": "slide"
    }
   },
   "source": [
    "## Parsing Flags with flag.Value"
   ]
  },
  {
   "cell_type": "code",
   "execution_count": 7,
   "metadata": {
    "slideshow": {
     "slide_type": "subslide"
    }
   },
   "outputs": [
    {
     "name": "stderr",
     "output_type": "stream",
     "text": [
      "gophernotes flag redefined: period\n"
     ]
    },
    {
     "ename": "ERROR",
     "evalue": "gophernotes flag redefined: period",
     "output_type": "error",
     "traceback": [
      "gophernotes flag redefined: period"
     ]
    }
   ],
   "source": [
    "//gopl.io/ch7/sleep\n",
    "import (\"time\";\"flag\";\"fmt\";\"os\")\n",
    "var period = flag.Duration(\"period\", 1*time.Second, \"sleep period\")\n",
    "func main() {\n",
    "    flag.Parse()\n",
    "    fmt.Printf(\"Sleeping for %v...\", *period)\n",
    "    time.Sleep(*period)\n",
    "    fmt.Println()\n",
    "}\n",
    "os.Args = []string{\"sleep\",\"-period\",\"50ms\"}\n",
    "main()\n",
    "os.Args = []string{\"sleep\",\"-period\",\"2m30s\"}\n",
    "main()\n",
    "os.Args = []string{\"sleep\",\"-period\",\"1 day\"}\n",
    "main()"
   ]
  },
  {
   "cell_type": "markdown",
   "metadata": {
    "slideshow": {
     "slide_type": "subslide"
    }
   },
   "source": [
    "<code>\n",
    "    package flag\n",
    "    //Value is the interface to the value stored in a flag\n",
    "    type Value interface {\n",
    "      String() string\n",
    "      Set(string) error\n",
    "    }\n",
    "</code>"
   ]
  },
  {
   "cell_type": "code",
   "execution_count": 11,
   "metadata": {
    "slideshow": {
     "slide_type": "subslide"
    }
   },
   "outputs": [
    {
     "ename": "ERROR",
     "evalue": "repl.go:32:33: cannot convert type <*main.celsiusFlag> to interface <flag.Value>: missing method  Set",
     "output_type": "error",
     "traceback": [
      "repl.go:32:33: cannot convert type <*main.celsiusFlag> to interface <flag.Value>: missing method  Set"
     ]
    }
   ],
   "source": [
    "//gopl.io/ch7/tempconv\n",
    "// *celsiusFlag satisfies the flag.Value interface.\n",
    "import (\n",
    "\t\"flag\"\n",
    "\t\"fmt\"\n",
    ")\n",
    "\n",
    "type Celsius float64\n",
    "type Fahrenheit float64\n",
    "\n",
    "func CToF(c Celsius) Fahrenheit { return Fahrenheit(c*9.0/5.0 + 32.0) }\n",
    "func FToC(f Fahrenheit) Celsius { return Celsius((f - 32.0) * 5.0 / 9.0) }\n",
    "\n",
    "func (c Celsius) String() string { return fmt.Sprintf(\"%g°C\", c) }\n",
    "type celsiusFlag struct {Celsius}\n",
    "func (f *celsiusFlag) Set(s string) error {\n",
    "    var unit string\n",
    "    var value float64\n",
    "    fmt.Sscanf(s, \"%f%s\", &value, &unit) // no error check needed\n",
    "    switch unit {\n",
    "    case \"C\", \"°C\":\n",
    "        f.Celsius = Celsius(value)\n",
    "        return nil\n",
    "    case \"F\", \"°F\":\n",
    "        f.Celsius = FToC(Fahrenheit(value))\n",
    "        return nil\n",
    "    }\n",
    "    return fmt.Errorf(\"invalid temperature %q\",s)\n",
    "}\n",
    "func CelsiusFlag(name string, value Celsius, usage string) *Celsius {\n",
    "\tf := celsiusFlag{value}\n",
    "\tflag.CommandLine.Var(&f, name, usage)\n",
    "\treturn &f.Celsius\n",
    "}"
   ]
  },
  {
   "cell_type": "markdown",
   "metadata": {
    "slideshow": {
     "slide_type": "slide"
    }
   },
   "source": [
    "## Interface Values"
   ]
  },
  {
   "cell_type": "code",
   "execution_count": 15,
   "metadata": {},
   "outputs": [
    {
     "name": "stdout",
     "output_type": "stream",
     "text": [
      "<nil>, <nil>\n"
     ]
    },
    {
     "data": {
      "text/plain": [
       "13 <nil>"
      ]
     },
     "execution_count": 15,
     "metadata": {},
     "output_type": "execute_result"
    }
   ],
   "source": [
    "import \"io\"\n",
    "var w io.Writer\n",
    "fmt.Printf(\"%v, %T\\n\", w,w)"
   ]
  },
  {
   "cell_type": "code",
   "execution_count": 17,
   "metadata": {},
   "outputs": [
    {
     "name": "stdout",
     "output_type": "stream",
     "text": [
      "&{0xc0006376e0}, *os.File\n"
     ]
    },
    {
     "data": {
      "text/plain": [
       "26 <nil>"
      ]
     },
     "execution_count": 17,
     "metadata": {},
     "output_type": "execute_result"
    }
   ],
   "source": [
    "w = os.Stdout\n",
    "fmt.Printf(\"%v, %T\\n\", w,w)"
   ]
  },
  {
   "cell_type": "code",
   "execution_count": 19,
   "metadata": {},
   "outputs": [
    {
     "name": "stdout",
     "output_type": "stream",
     "text": [
      ", *bytes.Buffer\n"
     ]
    },
    {
     "data": {
      "text/plain": [
       "16 <nil>"
      ]
     },
     "execution_count": 19,
     "metadata": {},
     "output_type": "execute_result"
    }
   ],
   "source": [
    "import \"bytes\"\n",
    "w = new(bytes.Buffer)\n",
    "fmt.Printf(\"%v, %T\\n\",w,w)"
   ]
  },
  {
   "cell_type": "markdown",
   "metadata": {
    "slideshow": {
     "slide_type": "slide"
    }
   },
   "source": [
    "## Sorting with sort.Interface"
   ]
  },
  {
   "cell_type": "code",
   "execution_count": 4,
   "metadata": {
    "code_folding": [
     17,
     25,
     32
    ],
    "slideshow": {
     "slide_type": "subslide"
    }
   },
   "outputs": [],
   "source": [
    "// Copyright © 2016 Alan A. A. Donovan & Brian W. Kernighan.\n",
    "// License: https://creativecommons.org/licenses/by-nc-sa/4.0/\n",
    "\n",
    "// See page 187.\n",
    "\n",
    "// Sorting sorts a music playlist into a variety of orders.\n",
    "//package main\n",
    "\n",
    "import (\n",
    "\t\"fmt\"\n",
    "\t\"os\"\n",
    "\t\"sort\"\n",
    "\t\"text/tabwriter\"\n",
    "\t\"time\"\n",
    ")\n",
    "\n",
    "//!+main\n",
    "type Track struct {\n",
    "\tTitle  string\n",
    "\tArtist string\n",
    "\tAlbum  string\n",
    "\tYear   int\n",
    "\tLength time.Duration\n",
    "}\n",
    "\n",
    "var tracks = []*Track{\n",
    "\t{\"Go\", \"Delilah\", \"From the Roots Up\", 2012, length(\"3m38s\")},\n",
    "\t{\"Go\", \"Moby\", \"Moby\", 1992, length(\"3m37s\")},\n",
    "\t{\"Go Ahead\", \"Alicia Keys\", \"As I Am\", 2007, length(\"4m36s\")},\n",
    "\t{\"Ready 2 Go\", \"Martin Solveig\", \"Smash\", 2011, length(\"4m24s\")},\n",
    "}\n",
    "\n",
    "func length(s string) time.Duration {\n",
    "\td, err := time.ParseDuration(s)\n",
    "\tif err != nil {\n",
    "\t\tpanic(s)\n",
    "\t}\n",
    "\treturn d\n",
    "}\n"
   ]
  },
  {
   "cell_type": "code",
   "execution_count": 5,
   "metadata": {
    "slideshow": {
     "slide_type": "subslide"
    }
   },
   "outputs": [],
   "source": [
    "//!-main\n",
    "\n",
    "//!+printTracks\n",
    "func printTracks(tracks []*Track) {\n",
    "\tconst format = \"%v\\t%v\\t%v\\t%v\\t%v\\t\\n\"\n",
    "\ttw := new(tabwriter.Writer).Init(os.Stdout, 0, 8, 2, ' ', 0)\n",
    "\tfmt.Fprintf(tw, format, \"Title\", \"Artist\", \"Album\", \"Year\", \"Length\")\n",
    "\tfmt.Fprintf(tw, format, \"-----\", \"------\", \"-----\", \"----\", \"------\")\n",
    "\tfor _, t := range tracks {\n",
    "\t\tfmt.Fprintf(tw, format, t.Title, t.Artist, t.Album, t.Year, t.Length)\n",
    "\t}\n",
    "\ttw.Flush() // calculate column widths and print table\n",
    "}\n",
    "\n",
    "//!-printTracks\n",
    "\n"
   ]
  },
  {
   "cell_type": "code",
   "execution_count": 6,
   "metadata": {
    "collapsed": true,
    "slideshow": {
     "slide_type": "subslide"
    }
   },
   "outputs": [
    {
     "name": "stdout",
     "output_type": "stream",
     "text": [
      "byArtist:\n",
      "Title       Artist          Album              Year  Length  \n",
      "-----       ------          -----              ----  ------  \n",
      "Go Ahead    Alicia Keys     As I Am            2007  4m36s   \n",
      "Go          Delilah         From the Roots Up  2012  3m38s   \n",
      "Ready 2 Go  Martin Solveig  Smash              2011  4m24s   \n",
      "Go          Moby            Moby               1992  3m37s   \n",
      "\n",
      "Reverse(byArtist):\n",
      "Title       Artist          Album              Year  Length  \n",
      "-----       ------          -----              ----  ------  \n",
      "Go          Moby            Moby               1992  3m37s   \n",
      "Ready 2 Go  Martin Solveig  Smash              2011  4m24s   \n",
      "Go          Delilah         From the Roots Up  2012  3m38s   \n",
      "Go Ahead    Alicia Keys     As I Am            2007  4m36s   \n",
      "\n",
      "byYear:\n",
      "Title       Artist          Album              Year  Length  \n",
      "-----       ------          -----              ----  ------  \n",
      "Go          Moby            Moby               1992  3m37s   \n",
      "Go Ahead    Alicia Keys     As I Am            2007  4m36s   \n",
      "Ready 2 Go  Martin Solveig  Smash              2011  4m24s   \n",
      "Go          Delilah         From the Roots Up  2012  3m38s   \n"
     ]
    }
   ],
   "source": [
    "//!+artistcode\n",
    "type byArtist []*Track\n",
    "\n",
    "func (x byArtist) Len() int           { return len(x) }\n",
    "func (x byArtist) Less(i, j int) bool { return x[i].Artist < x[j].Artist }\n",
    "func (x byArtist) Swap(i, j int)      { x[i], x[j] = x[j], x[i] }\n",
    "\n",
    "//!-artistcode\n",
    "\n",
    "//!+yearcode\n",
    "type byYear []*Track\n",
    "\n",
    "func (x byYear) Len() int           { return len(x) }\n",
    "func (x byYear) Less(i, j int) bool { return x[i].Year < x[j].Year }\n",
    "func (x byYear) Swap(i, j int)      { x[i], x[j] = x[j], x[i] }\n",
    "\n",
    "//!-yearcode\n",
    "\n",
    "    fmt.Println(\"byArtist:\")\n",
    "\tsort.Sort(byArtist(tracks))\n",
    "\tprintTracks(tracks)\n",
    "\n",
    "\tfmt.Println(\"\\nReverse(byArtist):\")\n",
    "\tsort.Sort(sort.Reverse(byArtist(tracks)))\n",
    "\tprintTracks(tracks)\n",
    "\n",
    "\tfmt.Println(\"\\nbyYear:\")\n",
    "\tsort.Sort(byYear(tracks))\n",
    "\tprintTracks(tracks)\n"
   ]
  },
  {
   "cell_type": "code",
   "execution_count": 7,
   "metadata": {},
   "outputs": [
    {
     "ename": "ERROR",
     "evalue": "repl.go:15:10: cannot use <main.customSort> as <sort.Interface> in argument to sort.Sort",
     "output_type": "error",
     "traceback": [
      "repl.go:15:10: cannot use <main.customSort> as <sort.Interface> in argument to sort.Sort"
     ]
    }
   ],
   "source": [
    "func main() {\n",
    "\t\n",
    "\tfmt.Println(\"\\nCustom:\")\n",
    "\t//!+customcall\n",
    "\tsort.Sort(customSort{tracks, func(x, y *Track) bool {\n",
    "\t\tif x.Title != y.Title {\n",
    "\t\t\treturn x.Title < y.Title\n",
    "\t\t}\n",
    "\t\tif x.Year != y.Year {\n",
    "\t\t\treturn x.Year < y.Year\n",
    "\t\t}\n",
    "\t\tif x.Length != y.Length {\n",
    "\t\t\treturn x.Length < y.Length\n",
    "\t\t}\n",
    "\t\treturn false\n",
    "\t}})\n",
    "\t//!-customcall\n",
    "\tprintTracks(tracks)\n",
    "}\n",
    "\n",
    "/*\n",
    "//!+artistoutput\n",
    "Title       Artist          Album              Year  Length\n",
    "-----       ------          -----              ----  ------\n",
    "Go Ahead    Alicia Keys     As I Am            2007  4m36s\n",
    "Go          Delilah         From the Roots Up  2012  3m38s\n",
    "Ready 2 Go  Martin Solveig  Smash              2011  4m24s\n",
    "Go          Moby            Moby               1992  3m37s\n",
    "//!-artistoutput\n",
    "\n",
    "//!+artistrevoutput\n",
    "Title       Artist          Album              Year  Length\n",
    "-----       ------          -----              ----  ------\n",
    "Go          Moby            Moby               1992  3m37s\n",
    "Ready 2 Go  Martin Solveig  Smash              2011  4m24s\n",
    "Go          Delilah         From the Roots Up  2012  3m38s\n",
    "Go Ahead    Alicia Keys     As I Am            2007  4m36s\n",
    "//!-artistrevoutput\n",
    "\n",
    "//!+yearoutput\n",
    "Title       Artist          Album              Year  Length\n",
    "-----       ------          -----              ----  ------\n",
    "Go          Moby            Moby               1992  3m37s\n",
    "Go Ahead    Alicia Keys     As I Am            2007  4m36s\n",
    "Ready 2 Go  Martin Solveig  Smash              2011  4m24s\n",
    "Go          Delilah         From the Roots Up  2012  3m38s\n",
    "//!-yearoutput\n",
    "\n",
    "//!+customout\n",
    "Title       Artist          Album              Year  Length\n",
    "-----       ------          -----              ----  ------\n",
    "Go          Moby            Moby               1992  3m37s\n",
    "Go          Delilah         From the Roots Up  2012  3m38s\n",
    "Go Ahead    Alicia Keys     As I Am            2007  4m36s\n",
    "Ready 2 Go  Martin Solveig  Smash              2011  4m24s\n",
    "//!-customout\n",
    "*/\n",
    "\n",
    "//!+customcode\n",
    "type customSort struct {\n",
    "\tt    []*Track\n",
    "\tless func(x, y *Track) bool\n",
    "}\n",
    "\n",
    "func (x customSort) Len() int           { return len(x.t) }\n",
    "func (x customSort) Less(i, j int) bool { return x.less(x.t[i], x.t[j]) }\n",
    "func (x customSort) Swap(i, j int)      { x.t[i], x.t[j] = x.t[j], x.t[i] }\n",
    "\n",
    "//!-customcode\n",
    "\n",
    "func init() {\n",
    "\t//!+ints\n",
    "\tvalues := []int{3, 1, 4, 1}\n",
    "\tfmt.Println(sort.IntsAreSorted(values)) // \"false\"\n",
    "\tsort.Ints(values)\n",
    "\tfmt.Println(values)                     // \"[1 1 3 4]\"\n",
    "\tfmt.Println(sort.IntsAreSorted(values)) // \"true\"\n",
    "\tsort.Sort(sort.Reverse(sort.IntSlice(values)))\n",
    "\tfmt.Println(values)                     // \"[4 3 1 1]\"\n",
    "\tfmt.Println(sort.IntsAreSorted(values)) // \"false\"\n",
    "\t//!-ints\n",
    "}"
   ]
  },
  {
   "cell_type": "markdown",
   "metadata": {
    "slideshow": {
     "slide_type": "slide"
    }
   },
   "source": [
    "## The http.Handler Interface"
   ]
  },
  {
   "cell_type": "code",
   "execution_count": 8,
   "metadata": {
    "slideshow": {
     "slide_type": "subslide"
    }
   },
   "outputs": [
    {
     "ename": "ERROR",
     "evalue": "repl.go:19:50: cannot use <main.database> as <net/http.Handler> in argument to http.ListenAndServe",
     "output_type": "error",
     "traceback": [
      "repl.go:19:50: cannot use <main.database> as <net/http.Handler> in argument to http.ListenAndServe"
     ]
    }
   ],
   "source": [
    "// Copyright © 2016 Alan A. A. Donovan & Brian W. Kernighan.\n",
    "// License: https://creativecommons.org/licenses/by-nc-sa/4.0/\n",
    "\n",
    "// See page 191.\n",
    "\n",
    "// Http1 is a rudimentary e-commerce server.\n",
    "//package main\n",
    "\n",
    "import (\n",
    "\t\"fmt\"\n",
    "\t\"log\"\n",
    "\t\"net/http\"\n",
    ")\n",
    "\n",
    "//!+main\n",
    "\n",
    "func main() {\n",
    "\tdb := database{\"shoes\": 50, \"socks\": 5}\n",
    "\tlog.Fatal(http.ListenAndServe(\"localhost:8000\", db))\n",
    "}\n",
    "\n",
    "type dollars float32\n",
    "\n",
    "func (d dollars) String() string { return fmt.Sprintf(\"$%.2f\", d) }\n",
    "\n",
    "type database map[string]dollars\n",
    "\n",
    "func (db database) ServeHTTP(w http.ResponseWriter, req *http.Request) {\n",
    "\tfor item, price := range db {\n",
    "\t\tfmt.Fprintf(w, \"%s: %s\\n\", item, price)\n",
    "\t}\n",
    "}\n",
    "\n",
    "//!-main\n",
    "\n",
    "/*\n",
    "//!+handler\n",
    "package http\n",
    "\n",
    "type Handler interface {\n",
    "\tServeHTTP(w ResponseWriter, r *Request)\n",
    "}\n",
    "\n",
    "func ListenAndServe(address string, h Handler) error\n",
    "//!-handler\n",
    "*/"
   ]
  },
  {
   "cell_type": "markdown",
   "metadata": {
    "slideshow": {
     "slide_type": "slide"
    }
   },
   "source": [
    "## The error Interface"
   ]
  },
  {
   "cell_type": "markdown",
   "metadata": {
    "slideshow": {
     "slide_type": "slide"
    }
   },
   "source": [
    "## Example: Expression Evaluator"
   ]
  },
  {
   "cell_type": "markdown",
   "metadata": {
    "slideshow": {
     "slide_type": "slide"
    }
   },
   "source": [
    "## Type Assertions"
   ]
  },
  {
   "cell_type": "markdown",
   "metadata": {
    "slideshow": {
     "slide_type": "slide"
    }
   },
   "source": [
    "## Discriminating Errors with Type Assertions"
   ]
  },
  {
   "cell_type": "markdown",
   "metadata": {
    "slideshow": {
     "slide_type": "slide"
    }
   },
   "source": [
    "## Querying Behaviors with Interface Type Assertions"
   ]
  },
  {
   "cell_type": "markdown",
   "metadata": {
    "slideshow": {
     "slide_type": "slide"
    }
   },
   "source": [
    "## Type Switches"
   ]
  },
  {
   "cell_type": "markdown",
   "metadata": {
    "slideshow": {
     "slide_type": "slide"
    }
   },
   "source": [
    "## Example: Token-Based XML Decoding"
   ]
  }
 ],
 "metadata": {
  "celltoolbar": "Slideshow",
  "kernelspec": {
   "display_name": "Go",
   "language": "go",
   "name": "gophernotes"
  },
  "language_info": {
   "codemirror_mode": "",
   "file_extension": ".go",
   "mimetype": "",
   "name": "go",
   "nbconvert_exporter": "",
   "pygments_lexer": "",
   "version": "go1.13"
  },
  "latex_envs": {
   "LaTeX_envs_menu_present": true,
   "autoclose": false,
   "autocomplete": true,
   "bibliofile": "biblio.bib",
   "cite_by": "apalike",
   "current_citInitial": 1,
   "eqLabelWithNumbers": true,
   "eqNumInitial": 1,
   "hotkeys": {
    "equation": "Ctrl-E",
    "itemize": "Ctrl-I"
   },
   "labels_anchors": false,
   "latex_user_defs": false,
   "report_style_numbering": false,
   "user_envs_cfg": false
  },
  "rise": {
   "enable_chalkboard": true,
   "scroll": true
  },
  "toc": {
   "base_numbering": "7",
   "nav_menu": {},
   "number_sections": true,
   "sideBar": true,
   "skip_h1_title": false,
   "title_cell": "Table of Contents",
   "title_sidebar": "Contents",
   "toc_cell": true,
   "toc_position": {},
   "toc_section_display": true,
   "toc_window_display": false
  }
 },
 "nbformat": 4,
 "nbformat_minor": 2
}
